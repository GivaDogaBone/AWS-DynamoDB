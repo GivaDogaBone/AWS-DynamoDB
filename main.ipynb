{
 "cells": [
  {
   "cell_type": "code",
   "id": "initial_id",
   "metadata": {
    "collapsed": true,
    "jupyter": {
     "is_executing": true
    }
   },
   "source": [
    "# Import necessary libraries\n",
    "import boto3\n",
    "import pandas as pd\n",
    "import numpy as np\n",
    "import matplotlib.pyplot as plt\n",
    "import seaborn as sns\n",
    "from tqdm.notebook import tqdm\n",
    "import json\n",
    "from datetime import datetime"
   ],
   "outputs": [],
   "execution_count": null
  },
  {
   "metadata": {},
   "cell_type": "markdown",
   "source": [
    "## AWS DynamoDB Setup and Data Analysis\n",
    "This notebook demonstrates how to interact with AWS DynamoDB, retrieve data from a venues table, and perform data"
   ],
   "id": "875807d43673ff1d"
  },
  {
   "metadata": {},
   "cell_type": "code",
   "outputs": [],
   "execution_count": null,
   "source": [
    "# Set up AWS client for DynamoDB\n",
    "try:\n",
    "    # Configure AWS credentials (if not using IAM roles)\n",
    "    # You would typically use environment variables or AWS credentials file\n",
    "    session = boto3.Session(region_name='us-east-1')\n",
    "    dynamodb = session.resource('dynamodb')\n",
    "    dynamodb_client = session.client('dynamodb')\n",
    "\n",
    "    # Connect to the venues table\n",
    "    venues_table = dynamodb.Table('venues')\n",
    "    print(\"Successfully connected to DynamoDB\")\n",
    "except Exception as e:\n",
    "    print(f\"Error connecting to AWS"
   ],
   "id": "ad9531d3ee43a24c"
  },
  {
   "metadata": {},
   "cell_type": "code",
   "outputs": [],
   "execution_count": null,
   "source": [
    "# Function to scan all items from the DynamoDB table\n",
    "def scan_table(table_name):\n",
    "    \"\"\"\n",
    "    Scan all items from a DynamoDB table\n",
    "    \"\"\"\n",
    "    table = dynamodb.Table(table_name)\n",
    "    response = table.scan()\n",
    "    items = response['Items']\n",
    "\n",
    "    # Handle pagination if there are more items\n",
    "    while 'LastEvaluatedKey' in response:\n",
    "        response = table.scan(ExclusiveStartKey=response['LastEvaluatedKey'])\n",
    "        items.extend(response['Items'])"
   ],
   "id": "2b6d13d579b2a0c0"
  },
  {
   "metadata": {},
   "cell_type": "code",
   "outputs": [],
   "execution_count": null,
   "source": [
    "# Retrieve all venues from the table\n",
    "try:\n",
    "    venues_data = scan_table('venues')\n",
    "    print(f\"Retrieved {len(venues_data)} venues from DynamoDB\")\n",
    "except Exception as e:\n",
    "    print(f\"Error retrieving data: {e}\")\n",
    "    # Create sample data for demonstration if connection fails\n",
    "    venues_data = [\n",
    "        {\"venueID\": \"v001\", \"name\": \"Stadium Arena\", \"capacity\": 50000, \"location\": \"New York\", \"openDate\": \"2010-05-15\"},\n",
    "        {\"venueID\": \"v002\", \"name\": \"Concert Hall\", \"capacity\": 2500, \"location\": \"Los Angeles\", \"openDate\": \"2015-11-23\"},\n",
    "        {\"venueID\": \"v003\", \"name\": \"Theater Complex\", \"capacity\": 1200, \"location\": \"Chicago\", \"openDate\": \"2018-03-07\"},\n",
    "        {\"venueID\": \"v004\", \"name\": \"Music Pavilion\", \"capacity\": 8000, \"location\": \"Miami\", \"openDate\": \"2012-08-30\"},\n",
    "        {\"venueID\": \"v005\", \"name\": \"Sports Center\", \"capacity\": 15000, \"location\": \"Dallas\", \"openDate\": \"2014-01-18\"}\n",
    "    ]\n",
    "    print(\"Using sample data for demonstration\")"
   ],
   "id": "797503cbf1a09242"
  },
  {
   "metadata": {},
   "cell_type": "code",
   "outputs": [],
   "execution_count": null,
   "source": [
    "# Convert venue data to a pandas DataFrame\n",
    "venues_df = pd.DataFrame(venues_data)\n",
    "\n",
    "# Display the DataFrame\n",
    "venues_df"
   ],
   "id": "3ab7f09d81df2c25"
  },
  {
   "metadata": {},
   "cell_type": "code",
   "outputs": [],
   "execution_count": null,
   "source": [
    "# Basic data cleaning and type conversion\n",
    "if 'capacity' in venues_df.columns:\n",
    "    venues_df['capacity'] = pd.to_numeric(venues_df['capacity'], errors='coerce')\n",
    "\n",
    "if 'openDate' in venues_df.columns:\n",
    "    venues_df['openDate'] = pd.to_datetime(venues_df['openDate'], errors='coerce')\n",
    "    venues_df['yearsOperating'] = (datetime.now().year - venues_df['openDate'].dt.year)\n",
    "\n",
    "# Check for missing values\n",
    "print(\"Missing values in each column:\")\n",
    "print(venues_df.isnull().sum())"
   ],
   "id": "15c1550a36e01a32"
  },
  {
   "metadata": {},
   "cell_type": "code",
   "outputs": [],
   "execution_count": null,
   "source": [
    "# Data visualization - Venue capacities\n",
    "if 'capacity' in venues_df.columns:\n",
    "    plt.figure(figsize=(12, 6))\n",
    "    sns.barplot(x='venueID', y='capacity', data=venues_df)\n",
    "    plt.title('Venue Capacities')\n",
    "    plt.xlabel('Venue ID')\n",
    "    plt.ylabel('Capacity')\n",
    "    plt.xticks(rotation=45)\n",
    "    plt.tight_layout()\n",
    "    plt.show"
   ],
   "id": "30edeef8922aacfe"
  },
  {
   "metadata": {},
   "cell_type": "code",
   "outputs": [],
   "execution_count": null,
   "source": [
    "# Distribution of venue capacities\n",
    "if 'capacity' in venues_df.columns:\n",
    "    plt.figure(figsize=(10, 6))\n",
    "    sns.histplot(venues_df['capacity'], kde=True)\n",
    "    plt.title('Distribution of Venue Capacities')\n",
    "    plt.xlabel('Capacity')\n",
    "    plt.ylabel('Frequency')\n",
    "    plt.show()"
   ],
   "id": "c211f02325920fc1"
  },
  {
   "metadata": {},
   "cell_type": "code",
   "outputs": [],
   "execution_count": null,
   "source": [
    "# Location analysis\n",
    "if 'location' in venues_df.columns:\n",
    "    location_counts = venues_df['location'].value_counts()\n",
    "\n",
    "    plt.figure()"
   ],
   "id": "4a1dca1d0420a093"
  }
 ],
 "metadata": {
  "kernelspec": {
   "display_name": "Python 3",
   "language": "python",
   "name": "python3"
  },
  "language_info": {
   "codemirror_mode": {
    "name": "ipython",
    "version": 2
   },
   "file_extension": ".py",
   "mimetype": "text/x-python",
   "name": "python",
   "nbconvert_exporter": "python",
   "pygments_lexer": "ipython2",
   "version": "2.7.6"
  }
 },
 "nbformat": 4,
 "nbformat_minor": 5
}
